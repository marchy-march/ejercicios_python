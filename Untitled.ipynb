{
 "cells": [
  {
   "cell_type": "code",
   "execution_count": 1,
   "id": "49d29fb1",
   "metadata": {},
   "outputs": [
    {
     "name": "stdout",
     "output_type": "stream",
     "text": [
      "Hola Mundo\n"
     ]
    }
   ],
   "source": [
    "print(\"Hola Mundo\")"
   ]
  },
  {
   "cell_type": "code",
   "execution_count": 9,
   "id": "a9516da0",
   "metadata": {},
   "outputs": [
    {
     "name": "stdout",
     "output_type": "stream",
     "text": [
      "10 3.5 blerg\n",
      "10 3.500 blerg\n",
      "valor:10\n",
      "3.500\n",
      "blerg\n"
     ]
    }
   ],
   "source": [
    "x = 10\n",
    "y = 3.5\n",
    "z = \"blerg\"\n",
    "print(x, y, z)\n",
    "print(\"%d %.3f %s\"%(x, y, z))\n",
    "print(\"valor:%d\\n%.3f\\n%s\"%(x, y, z))"
   ]
  },
  {
   "cell_type": "code",
   "execution_count": 11,
   "id": "950b23f7",
   "metadata": {},
   "outputs": [
    {
     "name": "stdout",
     "output_type": "stream",
     "text": [
      "2\n"
     ]
    }
   ],
   "source": [
    "list_1 = [1,2,3,4,5]\n",
    "\n",
    "print(list_1[1])"
   ]
  },
  {
   "cell_type": "code",
   "execution_count": 14,
   "id": "9b64cb5f",
   "metadata": {},
   "outputs": [
    {
     "name": "stdout",
     "output_type": "stream",
     "text": [
      "1\n",
      "2\n",
      "3\n",
      "4\n",
      "5\n",
      "6\n",
      "7\n",
      "8\n",
      "9\n",
      "10\n",
      "\n"
     ]
    }
   ],
   "source": [
    "list_2 = [1,2,3,4,5,6,7,8,9,10]\n",
    "print(\"%d\\n%d\\n%d\\n%d\\n%d\\n%d\\n%d\\n%d\\n%d\\n%d\\n\"%(list_2[0],list_2[1],list_2[2],list_2[3],list_2[4],list_2[5],list_2[6],list_2[7],list_2[8],list_2[9]))"
   ]
  },
  {
   "cell_type": "code",
   "execution_count": 20,
   "id": "58f80ce3",
   "metadata": {},
   "outputs": [
    {
     "name": "stdout",
     "output_type": "stream",
     "text": [
      "valor1\n",
      "valor2\n",
      "valor3\n",
      "valor4\n",
      "valor5\n",
      "valor6\n",
      "valor7\n",
      "valor8\n",
      "valor9\n",
      "valor10\n"
     ]
    }
   ],
   "source": [
    "for x in list_2:\n",
    "    print(\"valor \"+ str(x))"
   ]
  },
  {
   "cell_type": "code",
   "execution_count": 25,
   "id": "13741bc2",
   "metadata": {},
   "outputs": [
    {
     "name": "stdout",
     "output_type": "stream",
     "text": [
      "2\n",
      "4\n",
      "6\n",
      "8\n",
      "10\n",
      "\n",
      "1\n",
      "3\n",
      "5\n",
      "7\n",
      "9\n"
     ]
    }
   ],
   "source": [
    "for x in list_2:\n",
    "    if (x%2==0):\n",
    "        print(x)\n",
    "print(\"\")\n",
    "for x in list_2:\n",
    "    if(x%2!=0):\n",
    "        print(x)\n",
    "    "
   ]
  },
  {
   "cell_type": "code",
   "execution_count": 26,
   "id": "49c67b68",
   "metadata": {},
   "outputs": [
    {
     "name": "stdout",
     "output_type": "stream",
     "text": [
      "a\n"
     ]
    }
   ],
   "source": [
    "var_1 = \"Marcia\"\n",
    "print(var_1[1])"
   ]
  },
  {
   "cell_type": "code",
   "execution_count": 27,
   "id": "b3b8e9a6",
   "metadata": {},
   "outputs": [
    {
     "name": "stdout",
     "output_type": "stream",
     "text": [
      "M\n",
      "a\n",
      "r\n",
      "c\n",
      "i\n",
      "a\n"
     ]
    }
   ],
   "source": [
    "for x in var_1:\n",
    "    print(x)"
   ]
  },
  {
   "cell_type": "code",
   "execution_count": 29,
   "id": "4cb33f89",
   "metadata": {},
   "outputs": [
    {
     "name": "stdout",
     "output_type": "stream",
     "text": [
      "M\n",
      "a\n",
      "r\n",
      "c\n",
      "i\n",
      "a\n"
     ]
    }
   ],
   "source": [
    "x = 0\n",
    "while (x < len(var_1)):\n",
    "    print(var_1[x])\n",
    "    x+=1\n",
    "    \n",
    "    "
   ]
  },
  {
   "cell_type": "code",
   "execution_count": 30,
   "id": "332f0fe3",
   "metadata": {},
   "outputs": [
    {
     "name": "stdout",
     "output_type": "stream",
     "text": [
      "Marcia\n"
     ]
    }
   ],
   "source": [
    "var_3 = {\"A01633448\":\"Marcia\"}\n",
    "print(var_3[\"A01633448\"])"
   ]
  },
  {
   "cell_type": "code",
   "execution_count": 36,
   "id": "90b0c552",
   "metadata": {},
   "outputs": [
    {
     "name": "stdout",
     "output_type": "stream",
     "text": [
      "3\n"
     ]
    }
   ],
   "source": [
    "def vowel_count(word):\n",
    "    counter=0\n",
    "    for x in word:\n",
    "        if ((x ==\"a\")or (x ==\"e\") or (x==\"i\") or (x==\"u\") or (x==\"o\")):\n",
    "            counter+=1\n",
    "    return(counter)\n",
    "        \n",
    "var_4=vowel_count(\"Marcia\")\n",
    "print(var_4)\n",
    "        "
   ]
  },
  {
   "cell_type": "code",
   "execution_count": 114,
   "id": "79602595",
   "metadata": {},
   "outputs": [],
   "source": [
    "class Employee:\n",
    "    _name = None \n",
    "    _salary = None\n",
    "    _CURP = None \n",
    "    def __init__(self,name_2,salary_2,CURP_2):\n",
    "        self._name = name_2\n",
    "        self._salary = salary_2\n",
    "        self._CURP = CURP_2\n",
    "    def sad_salary(self):\n",
    "        if (self._salary < 30000):\n",
    "            return(\":c\")\n",
    "        else:\n",
    "            return(\"c:\")\n",
    "    def set_salary(self, new_salary):\n",
    "        self._salary = new_salary\n",
    "        \n",
    "    def get_salary(self):\n",
    "        return(self._salary)"
   ]
  },
  {
   "cell_type": "code",
   "execution_count": 116,
   "id": "29f57a7f",
   "metadata": {},
   "outputs": [],
   "source": [
    "employee_1 = Employee(\"Marcia\",4000,\"MPJV345678\")"
   ]
  },
  {
   "cell_type": "code",
   "execution_count": 117,
   "id": "c1567327",
   "metadata": {},
   "outputs": [
    {
     "name": "stdout",
     "output_type": "stream",
     "text": [
      "<__main__.Employee object at 0x000001DEFB08FEB0>\n"
     ]
    }
   ],
   "source": [
    "print(employee_1)"
   ]
  },
  {
   "cell_type": "code",
   "execution_count": 118,
   "id": "2dbd9f23",
   "metadata": {},
   "outputs": [
    {
     "name": "stdout",
     "output_type": "stream",
     "text": [
      "Marcia\n",
      "4000\n"
     ]
    }
   ],
   "source": [
    "print(employee_1._name)\n",
    "print(employee_1._salary)"
   ]
  },
  {
   "cell_type": "code",
   "execution_count": 119,
   "id": "b0079ea2",
   "metadata": {},
   "outputs": [],
   "source": [
    "employee_2 = Employee(\"Girlemployee\", 5000, \"GIRL123456\")"
   ]
  },
  {
   "cell_type": "code",
   "execution_count": 122,
   "id": "e860a1d1",
   "metadata": {},
   "outputs": [
    {
     "name": "stdout",
     "output_type": "stream",
     "text": [
      "Marcia \n",
      " Girlemployee\n"
     ]
    }
   ],
   "source": [
    "print(employee_1._name,\"\\n\",employee_2._name)"
   ]
  },
  {
   "cell_type": "code",
   "execution_count": 123,
   "id": "46d3722b",
   "metadata": {},
   "outputs": [
    {
     "data": {
      "text/plain": [
       "':c'"
      ]
     },
     "execution_count": 123,
     "metadata": {},
     "output_type": "execute_result"
    }
   ],
   "source": [
    "\n",
    "\n",
    "(employee_1.sad_salary())\n"
   ]
  },
  {
   "cell_type": "code",
   "execution_count": 124,
   "id": "328cac3e",
   "metadata": {},
   "outputs": [],
   "source": [
    " \n",
    "employee_1.set_salary(45000)"
   ]
  },
  {
   "cell_type": "code",
   "execution_count": 125,
   "id": "d9af481e",
   "metadata": {},
   "outputs": [
    {
     "data": {
      "text/plain": [
       "'c:'"
      ]
     },
     "execution_count": 125,
     "metadata": {},
     "output_type": "execute_result"
    }
   ],
   "source": [
    "\n",
    "\n",
    "(employee_1.sad_salary())"
   ]
  },
  {
   "cell_type": "code",
   "execution_count": 126,
   "id": "69d5af04",
   "metadata": {},
   "outputs": [
    {
     "name": "stdout",
     "output_type": "stream",
     "text": [
      "Marcia\n",
      "45000\n"
     ]
    }
   ],
   "source": [
    "print(employee_1._name)\n",
    "print(employee_1.get_salary())"
   ]
  },
  {
   "cell_type": "code",
   "execution_count": 159,
   "id": "65fae243",
   "metadata": {},
   "outputs": [],
   "source": [
    "class Car:\n",
    "    _make = None \n",
    "    _model = None\n",
    "    _color = None \n",
    "    _year = None\n",
    "    _reg_plate= None\n",
    "    def __init__(self,make_2,model_2,color_2, year_2, reg_plate_2):\n",
    "        self._make = make_2\n",
    "        self._model = model_2\n",
    "        self._color = color_2\n",
    "        self._year = year_2\n",
    "        self._reg_plate = reg_plate_2\n",
    "    def pay_fee(self):\n",
    "        if (self._year < 2005):\n",
    "            return(\"Models older than 2005 must pay the Yearly Registration Fee. \\nYour payment is pending. \\nLate fees apply.\")\n",
    "        else:\n",
    "            return(\"Models older than 2005 must pay the Yearly Registration Fee. \\nYour Registration Fee is up to date.\")\n",
    "    def set_reg_plate(self, new_plate):\n",
    "        self._reg_plate = new_plate\n",
    "        \n",
    "    def get_salary(self):\n",
    "        return(self._make)\n",
    "    def get_model(self):\n",
    "        return(self._model)\n",
    "    def get_color(self):\n",
    "        return(self._color)\n",
    "    def get_year(self):\n",
    "        return(self._year)\n",
    "    def get_reg_plate(self):\n",
    "        return(self._reg_plate)\n",
    "    "
   ]
  },
  {
   "cell_type": "code",
   "execution_count": 161,
   "id": "a15d6af4",
   "metadata": {},
   "outputs": [],
   "source": [
    "car_1 = Car(\"Mazda\", \"x5\", \"grey\", 2004, \"JLX8871\")"
   ]
  },
  {
   "cell_type": "code",
   "execution_count": 162,
   "id": "2880b0e1",
   "metadata": {},
   "outputs": [
    {
     "name": "stdout",
     "output_type": "stream",
     "text": [
      "x5\n"
     ]
    }
   ],
   "source": [
    "print(car_1._model)"
   ]
  },
  {
   "cell_type": "code",
   "execution_count": 163,
   "id": "5599affb",
   "metadata": {},
   "outputs": [
    {
     "name": "stdout",
     "output_type": "stream",
     "text": [
      "grey\n"
     ]
    }
   ],
   "source": [
    "print(car_1._color)"
   ]
  },
  {
   "cell_type": "code",
   "execution_count": 164,
   "id": "c5f4d250",
   "metadata": {},
   "outputs": [
    {
     "name": "stdout",
     "output_type": "stream",
     "text": [
      "Models older than 2005 must pay the Yearly Registration Fee. \n",
      "Your payment is pending. \n",
      "Late fees apply.\n"
     ]
    }
   ],
   "source": [
    "print(car_1.pay_fee())"
   ]
  },
  {
   "cell_type": "code",
   "execution_count": 165,
   "id": "f06e859f",
   "metadata": {},
   "outputs": [
    {
     "name": "stdout",
     "output_type": "stream",
     "text": [
      "JLX8871\n"
     ]
    }
   ],
   "source": [
    "print(car_1.get_reg_plate())"
   ]
  },
  {
   "cell_type": "code",
   "execution_count": 166,
   "id": "4fc482e2",
   "metadata": {},
   "outputs": [
    {
     "name": "stdout",
     "output_type": "stream",
     "text": [
      "JLX8871\n"
     ]
    }
   ],
   "source": [
    "print(car_1._reg_plate)"
   ]
  },
  {
   "cell_type": "code",
   "execution_count": 167,
   "id": "22b2c31e",
   "metadata": {},
   "outputs": [],
   "source": [
    "car_1.set_reg_plate(\"JJJ666\")"
   ]
  },
  {
   "cell_type": "code",
   "execution_count": 168,
   "id": "7b466fb6",
   "metadata": {},
   "outputs": [
    {
     "name": "stdout",
     "output_type": "stream",
     "text": [
      "JJJ666\n"
     ]
    }
   ],
   "source": [
    "print(car_1._reg_plate)"
   ]
  },
  {
   "cell_type": "code",
   "execution_count": null,
   "id": "d3a07efc",
   "metadata": {},
   "outputs": [],
   "source": []
  }
 ],
 "metadata": {
  "kernelspec": {
   "display_name": "Python 3",
   "language": "python",
   "name": "python3"
  },
  "language_info": {
   "codemirror_mode": {
    "name": "ipython",
    "version": 3
   },
   "file_extension": ".py",
   "mimetype": "text/x-python",
   "name": "python",
   "nbconvert_exporter": "python",
   "pygments_lexer": "ipython3",
   "version": "3.9.5"
  }
 },
 "nbformat": 4,
 "nbformat_minor": 5
}
